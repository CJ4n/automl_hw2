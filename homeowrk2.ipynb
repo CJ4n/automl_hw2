{
 "cells": [
  {
   "cell_type": "code",
   "execution_count": null,
   "metadata": {},
   "outputs": [],
   "source": [
    "import pandas as pd\n",
    "import numpy as np\n",
    "from sklearn.feature_selection import VarianceThreshold\n",
    "from sklearn.tree import DecisionTreeClassifier\n",
    "from sklearn.metrics import mutual_info_score\n",
    "####################################################################\n",
    "#                          Read data                               #\n",
    "####################################################################\n",
    "\n",
    "prefix = \"\"\n",
    "\n",
    "test_x = pd.read_table(prefix + \"artificial_test.data\", sep=\" \", header=None)\n",
    "test_x.drop(test_x.columns[500], axis=1, inplace = True)\n",
    "train_y = pd.read_table(prefix + \"artificial_train.labels\", header=None)\n",
    "train_x = pd.read_table(prefix + \"artificial_train.data\", sep=\" \", header=None)\n",
    "train_x.drop(train_x.columns[500], axis=1, inplace=True)"
   ]
  },
  {
   "cell_type": "code",
   "execution_count": null,
   "metadata": {},
   "outputs": [],
   "source": [
    "import numpy as np\n",
    "\n",
    "# 1. Remove Highly Correlated Columns\n",
    "corr_matrix = train_x.corr().abs()\n",
    "\n",
    "# Select upper triangle of correlation matrix\n",
    "upper = corr_matrix.where(np.triu(np.ones(corr_matrix.shape), k=1).astype(bool))\n",
    "\n",
    "# Find index of feature columns with correlation greater than 0.95\n",
    "to_drop = [column for column in upper.columns if any(upper[column] > 0.95)]\n",
    "train_x = train_x.drop(to_drop, axis=1)"
   ]
  },
  {
   "cell_type": "code",
   "execution_count": null,
   "metadata": {},
   "outputs": [],
   "source": [
    "# 2. Remove Low Variance Columns\n",
    "sel = VarianceThreshold(threshold=(.8 * (1 - .8)))  # Example threshold\n",
    "train_x = sel.fit_transform(train_x)"
   ]
  },
  {
   "cell_type": "code",
   "execution_count": null,
   "metadata": {},
   "outputs": [],
   "source": [
    "train_x.shape"
   ]
  },
  {
   "cell_type": "code",
   "execution_count": null,
   "metadata": {},
   "outputs": [],
   "source": [
    "# import pandas as pd\n",
    "# from sklearn.feature_selection import SelectKBest, f_classif\n",
    "\n",
    "# # Using ANOVA F-test to select features\n",
    "# selector = SelectKBest(f_classif, k='all')  # Change k to select the number of features you want\n",
    "# selector.fit(train_x, train_y)\n",
    "\n",
    "# # Get F-values and p-values for each feature\n",
    "# f_values = selector.scores_\n",
    "# p_values = selector.pvalues_\n",
    "\n",
    "# # Selecting features (you can use a threshold or select top k features)\n",
    "# selected_features = train_x.columns[selector.get_support()]\n",
    "\n",
    "# # Transforming train_x to include only the selected features\n",
    "# train_x_selected = selector.transform(train_x)"
   ]
  },
  {
   "cell_type": "code",
   "execution_count": null,
   "metadata": {},
   "outputs": [],
   "source": [
    "label = 'class'\n",
    "train_y.columns=[label]\n",
    "train_x = pd.DataFrame(train_x)\n",
    "\n",
    "# train_y = pd.DataFrame(train_y, columns=['class'])"
   ]
  }
 ],
 "metadata": {
  "language_info": {
   "name": "python"
  }
 },
 "nbformat": 4,
 "nbformat_minor": 2
}
