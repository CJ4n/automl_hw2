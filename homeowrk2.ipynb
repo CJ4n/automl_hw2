{
 "cells": [
  {
   "cell_type": "code",
   "execution_count": null,
   "metadata": {},
   "outputs": [],
   "source": [
    "# !pip install mljar-supervised"
   ]
  },
  {
   "cell_type": "code",
   "execution_count": 1,
   "metadata": {},
   "outputs": [
    {
     "name": "stderr",
     "output_type": "stream",
     "text": [
      "c:\\JAN_CICHOMSKI\\STUDIA\\STUDIA_SEMESTR_7_2023_ZIMA\\auto_ml\\homeworks\\homework_1\\AUTOML_HM2\\.venv\\lib\\site-packages\\tqdm\\auto.py:21: TqdmWarning: IProgress not found. Please update jupyter and ipywidgets. See https://ipywidgets.readthedocs.io/en/stable/user_install.html\n",
      "  from .autonotebook import tqdm as notebook_tqdm\n"
     ]
    }
   ],
   "source": [
    "import os\n",
    "import time\n",
    "from os import path\n",
    "\n",
    "import joblib\n",
    "import numpy as np\n",
    "import pandas as pd\n",
    "from autogluon.tabular import TabularPredictor\n",
    "from scipy.stats import randint, uniform\n",
    "from sklearn.ensemble import RandomForestClassifier, StackingClassifier\n",
    "from sklearn.feature_selection import SelectKBest, VarianceThreshold, f_classif\n",
    "from sklearn.linear_model import ElasticNet, LogisticRegression\n",
    "from sklearn.metrics import balanced_accuracy_score, mutual_info_score\n",
    "from sklearn.model_selection import RandomizedSearchCV\n",
    "from sklearn.neural_network import MLPClassifier\n",
    "from sklearn.pipeline import make_pipeline\n",
    "from sklearn.preprocessing import StandardScaler\n",
    "from sklearn.svm import SVC\n",
    "from sklearn.tree import DecisionTreeClassifier\n",
    "from sklearn.utils import shuffle\n",
    "from supervised.automl import AutoML  # mljar-supervised"
   ]
  },
  {
   "cell_type": "code",
   "execution_count": 49,
   "metadata": {},
   "outputs": [],
   "source": [
    "# Constants\n",
    "\n",
    "SEED = 42\n",
    "N_JOBS = -1\n",
    "RANDOM_SEARCH_N_ITER = 10\n",
    "TRAIN_TIME_LIMIT_AUTOGLUON = 60 * 1\n",
    "TRAIN_TIME_LIMIT_MLJAR = 60 * 1\n",
    "TRAIN_TIME_LIMIT_AUTO_SKLEARN = 60 * 1\n",
    "OUTPUT_DIR_MANUAL = path.join(\"output\", \"manual\")\n",
    "OUTPUT_DIR_AUTOGLUON = path.join(\"output\", \"autogluon\")\n",
    "OUTPUT_DIR_MLJAR = path.join(\"output\", \"mljar\")\n",
    "OUTPUT_DIR_AUTO_SKLEARN = path.join(\"output\", \"auto_sklearn\")\n",
    "UNIQUE_ID = time.strftime(\"%Y%m%d_%H%M%S\")\n",
    "APPLY_REMOVE_LOW_VARIANCE_FEATURES = True\n",
    "APPLY_REMOVE_CORRELATED_FEATURES = True\n",
    "APPLY_REMOVE_RANDOM_FEATURES = True\n",
    "APPLY_ANOVA = True"
   ]
  },
  {
   "cell_type": "code",
   "execution_count": 50,
   "metadata": {},
   "outputs": [
    {
     "name": "stdout",
     "output_type": "stream",
     "text": [
      "Creating output directory output\\manual\\20240110_153741\n",
      "Creating output directory output\\autogluon\\20240110_153741\n",
      "Creating output directory output\\mljar\\20240110_153741\n",
      "Creating output directory output\\auto_sklearn\\20240110_153741\n"
     ]
    }
   ],
   "source": [
    "# prepare output directories\n",
    "for output_dir in [\n",
    "    OUTPUT_DIR_MANUAL,\n",
    "    OUTPUT_DIR_AUTOGLUON,\n",
    "    OUTPUT_DIR_MLJAR,\n",
    "    OUTPUT_DIR_AUTO_SKLEARN,\n",
    "]:\n",
    "    if not path.exists(path.join(output_dir, UNIQUE_ID)):\n",
    "        print(f\"Creating output directory {path.join(output_dir, UNIQUE_ID)}\")\n",
    "        os.makedirs(path.join(output_dir, UNIQUE_ID))"
   ]
  },
  {
   "cell_type": "code",
   "execution_count": 51,
   "metadata": {},
   "outputs": [],
   "source": [
    "# Remove Highly Correlated Columns\n",
    "# def remove_highly_correlated_features(train_x, valid_x, test_x, threshold=0.95):\n",
    "#     corr_matrix = np.corrcoef(train_x, rowvar=False)\n",
    "#     upper = np.triu(np.ones(corr_matrix.shape), k=1).astype(bool)\n",
    "#     to_drop = np.where(np.abs(corr_matrix[upper]) > threshold)[0]\n",
    "#     print(to_drop)\n",
    "#     train_x = np.delete(train_x, to_drop, axis=1)\n",
    "#     valid_x = np.delete(valid_x, to_drop, axis=1)\n",
    "#     test_x = np.delete(test_x, to_drop, axis=1)\n",
    "#     return train_x, valid_x, test_x\n",
    "\n",
    "def remove_highly_correlated_features(train_x, valid_x, test_x, threshold=0.95):\n",
    "    # Calculate correlation matrix\n",
    "    corr_matrix = np.corrcoef(train_x, rowvar=False)\n",
    "    # Select upper triangle of correlation matrix\n",
    "    upper = np.triu(corr_matrix, k=1)\n",
    "    # Find indices of feature columns with correlation greater than threshold\n",
    "    to_drop = [i for i in range(upper.shape[1]) if any(upper[:, i] > threshold)]\n",
    "    \n",
    "    # Drop features from train, validation, and test set\n",
    "    train_x = np.delete(train_x, to_drop, axis=1)\n",
    "    valid_x = np.delete(valid_x, to_drop, axis=1)\n",
    "    test_x = np.delete(test_x, to_drop, axis=1)\n",
    "    \n",
    "    return train_x, valid_x, test_x\n",
    "# pandas\n",
    "# # Remove Highly Correlated Columns\n",
    "# def remove_highly_correlated_features(train_x, valid_x, text_x, threshold=0.95):\n",
    "#     corr_matrix = train_x.corr().abs()\n",
    "#     # Select upper triangle of correlation matrix\n",
    "#     upper = corr_matrix.where(np.triu(np.ones(corr_matrix.shape), k=1).astype(bool))\n",
    "#     # Find index of feature columns with correlation greater than threshold\n",
    "#     to_drop = [column for column in upper.columns if any(upper[column] > threshold)]\n",
    "#     train_x = train_x.drop(to_drop, axis=1)\n",
    "#     valid_x = valid_x.drop(to_drop, axis=1)\n",
    "#     text_x = text_x.drop(to_drop, axis=1)\n",
    "#     return train_x, valid_x, text_x\n"
   ]
  },
  {
   "cell_type": "code",
   "execution_count": 52,
   "metadata": {},
   "outputs": [],
   "source": [
    "# Remove Low Variance Columns\n",
    "def remove_low_variance_features(train_x, valid_x, test_x, threshold=(0.8 * (1 - 0.8))):\n",
    "    sel = VarianceThreshold(threshold=threshold)\n",
    "    sel.fit(train_x)\n",
    "    train_x = train_x[:, sel.get_support(indices=True)]\n",
    "    valid_x = valid_x[:, sel.get_support(indices=True)]\n",
    "    test_x = test_x[:, sel.get_support(indices=True)]\n",
    "    return train_x, valid_x, test_x"
   ]
  },
  {
   "cell_type": "code",
   "execution_count": 53,
   "metadata": {},
   "outputs": [],
   "source": [
    "# Remove Random Columns\n",
    "def remove_random_features(\n",
    "    train_x: np.ndarray,\n",
    "    train_y: np.ndarray,\n",
    "    valid_x: np.ndarray,\n",
    "    test_x: np.ndarray,\n",
    "    importance=0.005,\n",
    "):\n",
    "    tree: DecisionTreeClassifier = DecisionTreeClassifier(random_state=0)\n",
    "    tree.fit(train_x, train_y)\n",
    "    importances = tree.feature_importances_\n",
    "\n",
    "    # Assume columns with very low importance are \"random\"\n",
    "    # This threshold can be adjusted based on domain knowledge\n",
    "    important_indices = [i for i, imp in enumerate(importances) if imp > importance]\n",
    "    train_x = train_x[:, important_indices]\n",
    "    valid_x = valid_x[:, important_indices]\n",
    "    test_x = test_x[:, important_indices]\n",
    "    return train_x, valid_x, test_x"
   ]
  },
  {
   "cell_type": "code",
   "execution_count": 54,
   "metadata": {},
   "outputs": [],
   "source": [
    "def anova_filter(\n",
    "    train_x: np.ndarray,\n",
    "    train_y: np.ndarray,\n",
    "    valid_x: np.ndarray,\n",
    "    test_x: np.ndarray,\n",
    "    k: int = 50,\n",
    "):\n",
    "    # Using ANOVA F-test to select features\n",
    "    selector = SelectKBest(\n",
    "        f_classif, k=k\n",
    "    )  # Change k to select the number of features you want\n",
    "    selector.fit(train_x, train_y)\n",
    "\n",
    "    # Get F-values and p-values for each feature\n",
    "    # f_values = selector.scores_\n",
    "    # p_values = selector.pvalues_\n",
    "\n",
    "    # Selecting features (you can use a threshold or select top k features)\n",
    "    # selected_features = train_x.columns[selector.get_support()]\n",
    "\n",
    "    # Transforming train_x to include only the selected features\n",
    "    train_x = selector.transform(train_x)\n",
    "    valid_x = selector.transform(valid_x)\n",
    "    test_x = selector.transform(test_x)\n",
    "    return train_x, valid_x, test_x"
   ]
  },
  {
   "cell_type": "code",
   "execution_count": 55,
   "metadata": {},
   "outputs": [],
   "source": [
    "prefix = \"\"\n",
    "\n",
    "_test_x = pd.read_table(prefix + \"artificial_test.data\", sep=\" \", header=None)\n",
    "_test_x.drop(_test_x.columns[500], axis=1, inplace=True)\n",
    "_train_y = pd.read_table(prefix + \"artificial_train.labels\", header=None)\n",
    "_train_x = pd.read_table(prefix + \"artificial_train.data\", sep=\" \", header=None)\n",
    "_train_x.drop(_train_x.columns[500], axis=1, inplace=True)"
   ]
  },
  {
   "cell_type": "code",
   "execution_count": 56,
   "metadata": {},
   "outputs": [],
   "source": [
    "_train_x, _train_y = shuffle(_train_x, _train_y, random_state=42)"
   ]
  },
  {
   "cell_type": "code",
   "execution_count": 57,
   "metadata": {},
   "outputs": [],
   "source": [
    "def get_train_and_validation_data():\n",
    "    split = 400\n",
    "    train_x, valid_x = _train_x[split:].values, _train_x[:split].values\n",
    "    train_y, valid_y = _train_y[split:].values, _train_y[:split].values\n",
    "    return train_x, train_y, valid_x, valid_y"
   ]
  },
  {
   "cell_type": "code",
   "execution_count": 58,
   "metadata": {},
   "outputs": [
    {
     "name": "stdout",
     "output_type": "stream",
     "text": [
      "(1600, 500) (1600, 1) (400, 500) (400, 1)\n"
     ]
    }
   ],
   "source": [
    "train_x, train_y, valid_x, valid_y = get_train_and_validation_data()\n",
    "print(train_x.shape, train_y.shape, valid_x.shape, valid_y.shape)"
   ]
  },
  {
   "cell_type": "code",
   "execution_count": 59,
   "metadata": {},
   "outputs": [
    {
     "name": "stdout",
     "output_type": "stream",
     "text": [
      "train_x.shape:  (1600, 490)\n"
     ]
    }
   ],
   "source": [
    "if APPLY_REMOVE_CORRELATED_FEATURES:\n",
    "    train_x, valid_x, test_x = remove_highly_correlated_features(\n",
    "        train_x, valid_x, _test_x\n",
    "    )\n",
    "    print(\"train_x.shape: \", train_x.shape)"
   ]
  },
  {
   "cell_type": "code",
   "execution_count": 60,
   "metadata": {},
   "outputs": [
    {
     "name": "stdout",
     "output_type": "stream",
     "text": [
      "train_x.shape:  (1600, 490)\n"
     ]
    }
   ],
   "source": [
    "if APPLY_REMOVE_LOW_VARIANCE_FEATURES:\n",
    "    train_x, valid_x, test_x = remove_low_variance_features(train_x, valid_x, test_x)\n",
    "    print(\"train_x.shape: \", train_x.shape)"
   ]
  },
  {
   "cell_type": "code",
   "execution_count": 61,
   "metadata": {},
   "outputs": [
    {
     "name": "stdout",
     "output_type": "stream",
     "text": [
      "train_x.shape:  (1600, 40)\n"
     ]
    }
   ],
   "source": [
    "if APPLY_REMOVE_RANDOM_FEATURES:\n",
    "    train_x, valid_x, test_x = remove_random_features(\n",
    "        train_x=train_x, train_y=train_y, valid_x=valid_x, test_x=test_x\n",
    "    )\n",
    "    print(\"train_x.shape: \", train_x.shape)"
   ]
  },
  {
   "cell_type": "code",
   "execution_count": 62,
   "metadata": {},
   "outputs": [
    {
     "name": "stdout",
     "output_type": "stream",
     "text": [
      "train_x.shape:  (1600, 40)\n"
     ]
    },
    {
     "name": "stderr",
     "output_type": "stream",
     "text": [
      "c:\\JAN_CICHOMSKI\\STUDIA\\STUDIA_SEMESTR_7_2023_ZIMA\\auto_ml\\homeworks\\homework_1\\AUTOML_HM2\\.venv\\lib\\site-packages\\sklearn\\utils\\validation.py:1183: DataConversionWarning: A column-vector y was passed when a 1d array was expected. Please change the shape of y to (n_samples, ), for example using ravel().\n"
     ]
    }
   ],
   "source": [
    "if APPLY_ANOVA:\n",
    "    train_x, valid_x, test_x = anova_filter(\n",
    "        train_x=train_x, train_y=train_y, valid_x=valid_x, test_x=test_x, k=40\n",
    "    )\n",
    "    print(\"train_x.shape: \", train_x.shape)"
   ]
  },
  {
   "cell_type": "code",
   "execution_count": 36,
   "metadata": {},
   "outputs": [],
   "source": [
    "# convert to dataframe\n",
    "# train_x = pd.DataFrame(train_x)\n",
    "# valid_x = pd.DataFrame(valid_x)"
   ]
  },
  {
   "cell_type": "code",
   "execution_count": 37,
   "metadata": {},
   "outputs": [
    {
     "name": "stdout",
     "output_type": "stream",
     "text": [
      "train_x.shape:  (1600, 40)\n",
      "train_y.shape:  (1600, 1)\n"
     ]
    }
   ],
   "source": [
    "print(\"train_x.shape: \", train_x.shape)\n",
    "print(\"train_y.shape: \", train_y.shape)"
   ]
  },
  {
   "cell_type": "code",
   "execution_count": 38,
   "metadata": {},
   "outputs": [
    {
     "ename": "AttributeError",
     "evalue": "'numpy.ndarray' object has no attribute 'rename'",
     "output_type": "error",
     "traceback": [
      "\u001b[1;31m---------------------------------------------------------------------------\u001b[0m",
      "\u001b[1;31mAttributeError\u001b[0m                            Traceback (most recent call last)",
      "Cell \u001b[1;32mIn[38], line 2\u001b[0m\n\u001b[0;32m      1\u001b[0m label \u001b[38;5;241m=\u001b[39m \u001b[38;5;124m\"\u001b[39m\u001b[38;5;124mclass\u001b[39m\u001b[38;5;124m\"\u001b[39m\n\u001b[1;32m----> 2\u001b[0m train_y \u001b[38;5;241m=\u001b[39m \u001b[43mtrain_y\u001b[49m\u001b[38;5;241;43m.\u001b[39;49m\u001b[43mrename\u001b[49m(columns\u001b[38;5;241m=\u001b[39m{\u001b[38;5;241m0\u001b[39m: label})\n\u001b[0;32m      3\u001b[0m valid_y \u001b[38;5;241m=\u001b[39m valid_y\u001b[38;5;241m.\u001b[39mrename(columns\u001b[38;5;241m=\u001b[39m{\u001b[38;5;241m0\u001b[39m: label})\n\u001b[0;32m      4\u001b[0m train_data \u001b[38;5;241m=\u001b[39m pd\u001b[38;5;241m.\u001b[39mconcat([train_x, train_y[label]], axis\u001b[38;5;241m=\u001b[39m\u001b[38;5;241m1\u001b[39m)\n",
      "\u001b[1;31mAttributeError\u001b[0m: 'numpy.ndarray' object has no attribute 'rename'"
     ]
    }
   ],
   "source": [
    "label = \"class\"\n",
    "train_y = train_y.rename(columns={0: label})\n",
    "valid_y = valid_y.rename(columns={0: label})\n",
    "train_data = pd.concat([train_x, train_y[label]], axis=1)"
   ]
  },
  {
   "cell_type": "code",
   "execution_count": 39,
   "metadata": {},
   "outputs": [],
   "source": [
    "# sanity check\n",
    "(\n",
    "    original_train_x,\n",
    "    original_train_y,\n",
    "    original_valid_x,\n",
    "    original_valid_y,\n",
    ") = get_train_and_validation_data()\n",
    "for y, original_y in zip([train_y, valid_y], [original_train_y, original_valid_y]):\n",
    "    assert y.shape == original_y.shape"
   ]
  },
  {
   "cell_type": "markdown",
   "metadata": {},
   "source": [
    "### manual model"
   ]
  },
  {
   "cell_type": "code",
   "execution_count": 42,
   "metadata": {},
   "outputs": [],
   "source": [
    "train_y = train_y.ravel()\n",
    "valid_y = valid_y.ravel()"
   ]
  },
  {
   "cell_type": "code",
   "execution_count": 43,
   "metadata": {},
   "outputs": [
    {
     "name": "stdout",
     "output_type": "stream",
     "text": [
      "Fitting 5 folds for each of 1 candidates, totalling 5 fits\n",
      "Model Balanced Accuracy: 0.8204846090370334\n"
     ]
    }
   ],
   "source": [
    "base_classifiers = [\n",
    "    (\n",
    "        \"rf\",\n",
    "        make_pipeline(\n",
    "            StandardScaler(), RandomForestClassifier(n_estimators=100, random_state=42)\n",
    "        ),\n",
    "    ),\n",
    "    (\"svc\", make_pipeline(StandardScaler(), SVC(random_state=42))),\n",
    "    (\"dt\", make_pipeline(StandardScaler(), DecisionTreeClassifier(random_state=42))),\n",
    "    (\n",
    "        \"elasticnet\",\n",
    "        make_pipeline(\n",
    "            StandardScaler(),\n",
    "            ElasticNet(\n",
    "                alpha=0.0001, l1_ratio=0.15, max_iter=1000, tol=1e-3, random_state=42\n",
    "            ),\n",
    "        ),\n",
    "    ),\n",
    "    (\n",
    "        \"mlp\",\n",
    "        make_pipeline(\n",
    "            StandardScaler(),\n",
    "            MLPClassifier(\n",
    "                random_state=42,\n",
    "                max_iter=1000,\n",
    "                tol=1e-3,\n",
    "                hidden_layer_sizes=(100, 300, 200, 100),\n",
    "            ),\n",
    "        ),\n",
    "    ),\n",
    "]\n",
    "\n",
    "param_distributions = {\n",
    "    \"stackingclassifier__rf__randomforestclassifier__n_estimators\": randint(50, 200),\n",
    "    \"stackingclassifier__rf__randomforestclassifier__max_depth\": randint(3, 50),\n",
    "    \"stackingclassifier__rf__randomforestclassifier__min_samples_split\": randint(2, 20),\n",
    "    \"stackingclassifier__rf__randomforestclassifier__min_samples_leaf\": randint(1, 20),\n",
    "    \"stackingclassifier__svc__svc__C\": uniform(0.1, 10),\n",
    "    \"stackingclassifier__svc__svc__gamma\": [\"scale\", \"auto\"],\n",
    "    \"stackingclassifier__dt__decisiontreeclassifier__max_depth\": randint(3, 50),\n",
    "    \"stackingclassifier__dt__decisiontreeclassifier__min_samples_split\": randint(2, 20),\n",
    "    \"stackingclassifier__dt__decisiontreeclassifier__min_samples_leaf\": randint(1, 20),\n",
    "    \"stackingclassifier__elasticnet__elasticnet__alpha\": uniform(0.0001, 1),\n",
    "    \"stackingclassifier__elasticnet__elasticnet__l1_ratio\": uniform(0, 1),\n",
    "    \"stackingclassifier__mlp__mlpclassifier__alpha\": uniform(0.0001, 1),\n",
    "    \"stackingclassifier__mlp__mlpclassifier__learning_rate_init\": uniform(0.001, 0.1),\n",
    "    \"stackingclassifier__mlp__mlpclassifier__hidden_layer_sizes\": [\n",
    "        (100, 300, 200, 100),\n",
    "        (100, 300, 200, 100, 50),\n",
    "        (100, 300, 200, 100, 50, 25),\n",
    "    ],\n",
    "    \"stackingclassifier__final_estimator__C\": uniform(0.01, 10),\n",
    "}\n",
    "\n",
    "\n",
    "stacked_ensemble_model = make_pipeline(\n",
    "    StackingClassifier(\n",
    "        estimators=base_classifiers,\n",
    "        final_estimator=LogisticRegression(),\n",
    "        cv=5,\n",
    "    )\n",
    ")\n",
    "\n",
    "random_search = RandomizedSearchCV(\n",
    "    stacked_ensemble_model,\n",
    "    param_distributions=param_distributions,\n",
    "    scoring=\"balanced_accuracy\",\n",
    "    n_iter=1,\n",
    "    cv=5,\n",
    "    verbose=4,\n",
    "    random_state=SEED,\n",
    "    n_jobs=-1,\n",
    ")\n",
    "random_search.fit(train_x, train_y)\n",
    "y_pred = random_search.predict(valid_x)\n",
    "balanced_accuracy = balanced_accuracy_score(valid_y, y_pred)\n",
    "print(f\"Model Balanced Accuracy: {balanced_accuracy}\")"
   ]
  },
  {
   "cell_type": "code",
   "execution_count": 44,
   "metadata": {},
   "outputs": [
    {
     "data": {
      "text/plain": [
       "['output\\\\manual\\\\20240110_152827\\\\manual_model_pred.pkl']"
      ]
     },
     "execution_count": 44,
     "metadata": {},
     "output_type": "execute_result"
    }
   ],
   "source": [
    "proba = random_search.predict_proba(test_x)\n",
    "output_path = path.join(OUTPUT_DIR_MANUAL, UNIQUE_ID, \"manual_model.txt\")\n",
    "np.savetxt(output_path, proba, delimiter=\"\\n\")\n",
    "joblib.dump(random_search, path.join(OUTPUT_DIR_MANUAL, UNIQUE_ID, \"manual_model_pred.pkl\"))\n",
    "# random_search.save(path.join(OUTPUT_DIR_MANUAL, UNIQUE_ID, \"manual_model.pkl\"))"
   ]
  },
  {
   "cell_type": "markdown",
   "metadata": {},
   "source": [
    "### Autogluon"
   ]
  },
  {
   "cell_type": "code",
   "execution_count": 47,
   "metadata": {},
   "outputs": [],
   "source": [
    "# contanenate train and validation data np arrays\n",
    "train_data = np.concatenate((train_x, valid_x), axis=0)"
   ]
  },
  {
   "cell_type": "code",
   "execution_count": 48,
   "metadata": {},
   "outputs": [
    {
     "name": "stderr",
     "output_type": "stream",
     "text": [
      "Warning: path already exists! This predictor may overwrite an existing predictor! path=\"autogluon_save\"\n"
     ]
    },
    {
     "ename": "NameError",
     "evalue": "name 'train_data' is not defined",
     "output_type": "error",
     "traceback": [
      "\u001b[1;31m---------------------------------------------------------------------------\u001b[0m",
      "\u001b[1;31mNameError\u001b[0m                                 Traceback (most recent call last)",
      "Cell \u001b[1;32mIn[48], line 5\u001b[0m\n\u001b[0;32m      1\u001b[0m save_path \u001b[38;5;241m=\u001b[39m \u001b[38;5;124m\"\u001b[39m\u001b[38;5;124mautogluon_save\u001b[39m\u001b[38;5;124m\"\u001b[39m\n\u001b[0;32m      2\u001b[0m predictor \u001b[38;5;241m=\u001b[39m TabularPredictor(\n\u001b[0;32m      3\u001b[0m     label\u001b[38;5;241m=\u001b[39mlabel, path\u001b[38;5;241m=\u001b[39msave_path, eval_metric\u001b[38;5;241m=\u001b[39m\u001b[38;5;124m\"\u001b[39m\u001b[38;5;124mbalanced_accuracy\u001b[39m\u001b[38;5;124m\"\u001b[39m, problem_type\u001b[38;5;241m=\u001b[39m\u001b[38;5;124m\"\u001b[39m\u001b[38;5;124mbinary\u001b[39m\u001b[38;5;124m\"\u001b[39m\n\u001b[0;32m      4\u001b[0m )\u001b[38;5;241m.\u001b[39mfit(\n\u001b[1;32m----> 5\u001b[0m     \u001b[43mtrain_data\u001b[49m,\n\u001b[0;32m      6\u001b[0m     time_limit\u001b[38;5;241m=\u001b[39mTRAIN_TIME_LIMIT_AUTOGLUON,\n\u001b[0;32m      7\u001b[0m     presets\u001b[38;5;241m=\u001b[39m\u001b[38;5;124m\"\u001b[39m\u001b[38;5;124mbest_quality\u001b[39m\u001b[38;5;124m\"\u001b[39m,\n\u001b[0;32m      8\u001b[0m     hyperparameters\u001b[38;5;241m=\u001b[39m\u001b[38;5;124m\"\u001b[39m\u001b[38;5;124mdefault\u001b[39m\u001b[38;5;124m\"\u001b[39m,\n\u001b[0;32m      9\u001b[0m )\n",
      "\u001b[1;31mNameError\u001b[0m: name 'train_data' is not defined"
     ]
    }
   ],
   "source": [
    "save_path = \"autogluon_save\"\n",
    "predictor = TabularPredictor(\n",
    "    label=label, path=save_path, eval_metric=\"balanced_accuracy\", problem_type=\"binary\"\n",
    ").fit(\n",
    "    train_data,\n",
    "    time_limit=TRAIN_TIME_LIMIT_AUTOGLUON,\n",
    "    presets=\"best_quality\",\n",
    "    hyperparameters=\"default\",\n",
    ")"
   ]
  },
  {
   "cell_type": "code",
   "execution_count": null,
   "metadata": {},
   "outputs": [],
   "source": [
    "predictor.leaderboard()"
   ]
  },
  {
   "cell_type": "code",
   "execution_count": null,
   "metadata": {},
   "outputs": [],
   "source": [
    "print(valid_x.shape)\n",
    "print(valid_y.shape)\n",
    "valid_data = pd.concat([valid_x, valid_y[label]], axis=1)\n",
    "predictor.evaluate(valid_data)"
   ]
  },
  {
   "cell_type": "code",
   "execution_count": null,
   "metadata": {},
   "outputs": [],
   "source": [
    "proba = predictor.predict_proba(test_x)\n",
    "output_path = path.join(OUTPUT_DIR_AUTOGLUON, UNIQUE_ID, \"manual_model_pred.txt\")\n",
    "np.savetxt(output_path, proba, delimiter=\"\\n\")\n",
    "predictor.save(path.join(OUTPUT_DIR_AUTOGLUON, UNIQUE_ID, \"manual_model.pkl\"))"
   ]
  },
  {
   "cell_type": "markdown",
   "metadata": {},
   "source": [
    "### MLJar"
   ]
  },
  {
   "cell_type": "code",
   "execution_count": null,
   "metadata": {},
   "outputs": [],
   "source": [
    "automl = AutoML(\n",
    "    mode=\"Compete\",\n",
    "    ml_task=\"binary_classification\",\n",
    "    total_time_limit=TRAIN_TIME_LIMIT_MLJAR,\n",
    "    eval_metric=\"f1\",\n",
    "    random_state=SEED,\n",
    "    results_path=path.join(OUTPUT_DIR_MLJAR, UNIQUE_ID),\n",
    ")\n",
    "\n",
    "automl.fit(train_x, train_y)"
   ]
  },
  {
   "cell_type": "code",
   "execution_count": null,
   "metadata": {},
   "outputs": [],
   "source": [
    "predictions = automl.predict(valid_x)\n",
    "balanced_accuracy_score(valid_y, predictions)"
   ]
  },
  {
   "cell_type": "code",
   "execution_count": null,
   "metadata": {},
   "outputs": [],
   "source": [
    "proba = automl.predict_proba(_test_x)\n",
    "output_path = path.join(OUTPUT_DIR_MLJAR, UNIQUE_ID, \"manual_model.txt\")\n",
    "np.savetxt(output_path, proba, delimiter=\"\\n\")"
   ]
  },
  {
   "cell_type": "markdown",
   "metadata": {},
   "source": [
    "### Auto SKLearn"
   ]
  },
  {
   "cell_type": "code",
   "execution_count": null,
   "metadata": {},
   "outputs": [],
   "source": [
    "# !pip install auto-sklearn\n",
    "# !pip install ydata-profiling\n",
    "from autosklearn.classification import AutoSklearnClassifier\n",
    "from autosklearn.experimental.askl2 import AutoSklearn2Classifier\n",
    "from autosklearn.metrics import balanced_accuracy"
   ]
  },
  {
   "cell_type": "code",
   "execution_count": null,
   "metadata": {},
   "outputs": [],
   "source": [
    "settings = {\n",
    "    \"time_left_for_this_task\": TRAIN_TIME_LIMIT_AUTO_SKLEARN,\n",
    "    \"seed\": SEED,\n",
    "    \"metric\": balanced_accuracy,\n",
    "    \"n_jobs\": -1,\n",
    "}"
   ]
  },
  {
   "cell_type": "code",
   "execution_count": null,
   "metadata": {},
   "outputs": [],
   "source": [
    "askl2 = AutoSklearn2Classifier(**settings)\n",
    "askl2.fit(train_x, train_y)"
   ]
  },
  {
   "cell_type": "code",
   "execution_count": null,
   "metadata": {},
   "outputs": [],
   "source": [
    "leaderboard = askl2.leaderboard(sort_by=\"model_id\", ensemble_only=True)\n",
    "print(leaderboard)"
   ]
  },
  {
   "cell_type": "code",
   "execution_count": null,
   "metadata": {},
   "outputs": [],
   "source": [
    "predictions = askl2.predict(valid_x)\n",
    "balanced_accuracy_score(valid_y, predictions)"
   ]
  },
  {
   "cell_type": "code",
   "execution_count": null,
   "metadata": {},
   "outputs": [],
   "source": [
    "proba = askl2.predict_proba(test_x)\n",
    "output_path = path.join(OUTPUT_DIR_AUTO_SKLEARN, UNIQUE_ID, \"manual_model.txt\")\n",
    "np.savetxt(output_path, proba, delimiter=\"\\n\")\n",
    "askl2.save(path.join(OUTPUT_DIR_AUTO_SKLEARN, UNIQUE_ID, \"manual_model.pkl\"))"
   ]
  }
 ],
 "metadata": {
  "kernelspec": {
   "display_name": ".venv",
   "language": "python",
   "name": "python3"
  },
  "language_info": {
   "codemirror_mode": {
    "name": "ipython",
    "version": 3
   },
   "file_extension": ".py",
   "mimetype": "text/x-python",
   "name": "python",
   "nbconvert_exporter": "python",
   "pygments_lexer": "ipython3",
   "version": "3.8.10"
  }
 },
 "nbformat": 4,
 "nbformat_minor": 2
}
